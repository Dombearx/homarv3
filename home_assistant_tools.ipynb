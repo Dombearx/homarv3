{
  "cells": [
    {
      "cell_type": "markdown",
      "metadata": {},
      "source": [
        "# Home Assistant Tools Explorer\n",
        "\n",
        "This notebook demonstrates how to list and explore tools available from the Home Assistant MCP server using the Homar AI agent.\n"
      ]
    },
    {
      "cell_type": "code",
      "execution_count": 1,
      "metadata": {},
      "outputs": [
        {
          "data": {
            "text/plain": [
              "True"
            ]
          },
          "execution_count": 1,
          "metadata": {},
          "output_type": "execute_result"
        }
      ],
      "source": [
        "# Import required modules\n",
        "import os\n",
        "import asyncio\n",
        "from pydantic_ai.mcp import MCPServerSSE\n",
        "from dotenv import load_dotenv\n",
        "\n",
        "# Load environment variables\n",
        "load_dotenv()\n"
      ]
    },
    {
      "cell_type": "code",
      "execution_count": 4,
      "metadata": {},
      "outputs": [
        {
          "name": "stdout",
          "output_type": "stream",
          "text": [
            "Home Assistant MCP server initialized\n"
          ]
        }
      ],
      "source": [
        "# Initialize Home Assistant MCP server\n",
        "home_assistant_mcp_server = MCPServerSSE(\n",
        "    \"http://192.168.50.30:8123/mcp_server/sse\",\n",
        "    headers={\"Authorization\": f\"Bearer {os.getenv('HOME_ASSISTANT_TOKEN')}\"}\n",
        ")\n",
        "\n",
        "print(\"Home Assistant MCP server initialized\")\n"
      ]
    },
    {
      "cell_type": "code",
      "execution_count": 7,
      "metadata": {},
      "outputs": [
        {
          "name": "stdout",
          "output_type": "stream",
          "text": [
            "Found 5 tools from Home Assistant:\n",
            "==================================================\n",
            "1. HassTurnOn\n",
            "   Description: Turns on/opens/presses a device or entity. For locks, this performs a 'lock' action. Use for requests like 'turn on', 'activate', 'enable', or 'lock'.\n",
            "   Input Schema: {'type': 'object', 'properties': {'name': {'type': 'string'}, 'area': {'type': 'string'}, 'floor': {'type': 'string'}, 'domain': {'type': 'array', 'items': {'type': 'string'}}, 'device_class': {'type': 'array', 'items': {'type': 'string', 'enum': ['identify', 'restart', 'update', 'awning', 'blind', 'curtain', 'damper', 'door', 'garage', 'gate', 'shade', 'shutter', 'window', 'tv', 'speaker', 'receiver', 'outlet', 'switch', 'water', 'gas']}}}}\n",
            "\n",
            "2. HassTurnOff\n",
            "   Description: Turns off/closes a device or entity. For locks, this performs an 'unlock' action. Use for requests like 'turn off', 'deactivate', 'disable', or 'unlock'.\n",
            "   Input Schema: {'type': 'object', 'properties': {'name': {'type': 'string'}, 'area': {'type': 'string'}, 'floor': {'type': 'string'}, 'domain': {'type': 'array', 'items': {'type': 'string'}}, 'device_class': {'type': 'array', 'items': {'type': 'string', 'enum': ['identify', 'restart', 'update', 'awning', 'blind', 'curtain', 'damper', 'door', 'garage', 'gate', 'shade', 'shutter', 'window', 'tv', 'speaker', 'receiver', 'outlet', 'switch', 'water', 'gas']}}}}\n",
            "\n",
            "3. HassCancelAllTimers\n",
            "   Description: Cancels all timers\n",
            "   Input Schema: {'type': 'object', 'properties': {'area': {'type': 'string'}}}\n",
            "\n",
            "4. HassLightSet\n",
            "   Description: Sets the brightness percentage or color of a light\n",
            "   Input Schema: {'type': 'object', 'properties': {'name': {'type': 'string'}, 'area': {'type': 'string'}, 'floor': {'type': 'string'}, 'domain': {'type': 'array', 'items': {'type': 'string'}}, 'color': {'type': 'string'}, 'temperature': {'type': 'integer', 'minimum': 0}, 'brightness': {'type': 'integer', 'minimum': 0, 'maximum': 100, 'description': 'The brightness percentage of the light between 0 and 100, where 0 is off and 100 is fully lit'}}}\n",
            "\n",
            "5. GetLiveContext\n",
            "   Description: Provides real-time information about the CURRENT state, value, or mode of devices, sensors, entities, or areas. Use this tool for: 1. Answering questions about current conditions (e.g., 'Is the light on?'). 2. As the first step in conditional actions (e.g., 'If the weather is rainy, turn off sprinklers' requires checking the weather first).\n",
            "   Input Schema: {'type': 'object', 'properties': {}}\n",
            "\n"
          ]
        }
      ],
      "source": [
        "# Function to list Home Assistant tools\n",
        "async def list_home_assistant_tools():\n",
        "    \"\"\"List all available tools from Home Assistant MCP server\"\"\"\n",
        "    try:\n",
        "        tools = await home_assistant_mcp_server.list_tools()\n",
        "        return tools\n",
        "    except Exception as e:\n",
        "        print(f\"Error connecting to Home Assistant: {e}\")\n",
        "        return None\n",
        "\n",
        "# Run the function and display results\n",
        "tools = await list_home_assistant_tools()\n",
        "\n",
        "if tools:\n",
        "    print(f\"Found {len(tools)} tools from Home Assistant:\")\n",
        "    print(\"=\" * 50)\n",
        "    \n",
        "    for i, tool in enumerate(tools, 1):\n",
        "        print(f\"{i}. {tool.name}\")\n",
        "        if hasattr(tool, 'description') and tool.description:\n",
        "            print(f\"   Description: {tool.description}\")\n",
        "        if hasattr(tool, 'inputSchema') and tool.inputSchema:\n",
        "            print(f\"   Input Schema: {tool.inputSchema}\")\n",
        "        print()\n",
        "else:\n",
        "    print(\"No tools found or connection failed\")\n"
      ]
    },
    {
      "cell_type": "code",
      "execution_count": 9,
      "metadata": {},
      "outputs": [],
      "source": [
        "from pydantic_ai.mcp import MCPServerStreamableHTTP\n",
        "\n",
        "todoist_mcp_server = MCPServerStreamableHTTP(\n",
        "    \"https://ai.todoist.net/mcp\",\n",
        "    headers={\"Authorization\": f\"Bearer {os.getenv('TODOIST_TOKEN')}\"}\n",
        ")"
      ]
    },
    {
      "cell_type": "code",
      "execution_count": 13,
      "metadata": {},
      "outputs": [
        {
          "name": "stdout",
          "output_type": "stream",
          "text": [
            "Found 20 tools from Todoist:\n",
            "==================================================\n",
            "1. add-tasks\n",
            "   Description: Add one or more tasks to a project, section, or parent. Supports assignment to project collaborators.\n",
            "   Input Schema: {'type': 'object', 'properties': {'tasks': {'type': 'array', 'items': {'type': 'object', 'properties': {'content': {'type': 'string', 'minLength': 1, 'description': 'The content of the task to create.'}, 'description': {'type': 'string', 'description': 'The description of the task.'}, 'priority': {'type': 'string', 'enum': ['p1', 'p2', 'p3', 'p4'], 'description': 'The priority of the task: p1 (highest), p2 (high), p3 (medium), p4 (lowest/default).'}, 'dueString': {'type': 'string', 'description': 'The due date for the task, in natural language.'}, 'duration': {'type': 'string', 'description': 'The duration of the task. Use format: \"2h\" (hours), \"90m\" (minutes), \"2h30m\" (combined), or \"1.5h\" (decimal hours). Max 24h.'}, 'labels': {'type': 'array', 'items': {'type': 'string'}, 'description': 'The labels to attach to the task.'}, 'projectId': {'type': 'string', 'description': 'The project ID to add this task to.'}, 'sectionId': {'type': 'string', 'description': 'The section ID to add this task to.'}, 'parentId': {'type': 'string', 'description': 'The parent task ID (for subtasks).'}, 'responsibleUser': {'type': 'string', 'description': 'Assign task to this user. Can be a user ID, name, or email address. User must be a collaborator on the target project.'}}, 'required': ['content'], 'additionalProperties': False}, 'minItems': 1, 'description': 'The array of tasks to add.'}}, 'required': ['tasks'], 'additionalProperties': False, '$schema': 'http://json-schema.org/draft-07/schema#'}\n",
            "\n",
            "2. complete-tasks\n",
            "   Description: Complete one or more tasks by their IDs.\n",
            "   Input Schema: {'type': 'object', 'properties': {'ids': {'type': 'array', 'items': {'type': 'string', 'minLength': 1}, 'minItems': 1, 'description': 'The IDs of the tasks to complete.'}}, 'required': ['ids'], 'additionalProperties': False, '$schema': 'http://json-schema.org/draft-07/schema#'}\n",
            "\n",
            "3. update-tasks\n",
            "   Description: Update existing tasks including content, dates, priorities, and assignments.\n",
            "   Input Schema: {'type': 'object', 'properties': {'tasks': {'type': 'array', 'items': {'type': 'object', 'properties': {'id': {'type': 'string', 'minLength': 1, 'description': 'The ID of the task to update.'}, 'content': {'type': 'string', 'description': 'The new content of the task.'}, 'description': {'type': 'string', 'description': 'The new description of the task.'}, 'projectId': {'type': 'string', 'description': 'The new project ID for the task.'}, 'sectionId': {'type': 'string', 'description': 'The new section ID for the task.'}, 'parentId': {'type': 'string', 'description': 'The new parent task ID (for subtasks).'}, 'order': {'type': 'number', 'description': 'The new order of the task within its parent/section.'}, 'priority': {'type': 'string', 'enum': ['p1', 'p2', 'p3', 'p4'], 'description': 'The new priority of the task: p1 (highest), p2 (high), p3 (medium), p4 (lowest/default).'}, 'dueString': {'type': 'string', 'description': \"The new due date for the task, in natural language (e.g., 'tomorrow at 5pm').\"}, 'duration': {'type': 'string', 'description': 'The duration of the task. Use format: \"2h\" (hours), \"90m\" (minutes), \"2h30m\" (combined), or \"1.5h\" (decimal hours). Max 24h.'}, 'responsibleUser': {'type': ['string', 'null'], 'description': 'Change task assignment. Use null to unassign. Can be user ID, name, or email. User must be a project collaborator.'}, 'labels': {'type': 'array', 'items': {'type': 'string'}, 'description': 'The new labels for the task. Replaces all existing labels.'}}, 'required': ['id'], 'additionalProperties': False}, 'minItems': 1, 'description': 'The tasks to update.'}}, 'required': ['tasks'], 'additionalProperties': False, '$schema': 'http://json-schema.org/draft-07/schema#'}\n",
            "\n",
            "4. find-tasks\n",
            "   Description: Find tasks by text search, or by project/section/parent container/responsible user. At least one filter must be provided.\n",
            "   Input Schema: {'type': 'object', 'properties': {'searchText': {'type': 'string', 'description': 'The text to search for in tasks.'}, 'projectId': {'type': 'string', 'description': 'Find tasks in this project.'}, 'sectionId': {'type': 'string', 'description': 'Find tasks in this section.'}, 'parentId': {'type': 'string', 'description': 'Find subtasks of this parent task.'}, 'responsibleUser': {'type': 'string', 'description': 'Find tasks assigned to this user. Can be a user ID, name, or email address.'}, 'responsibleUserFiltering': {'type': 'string', 'enum': ['assigned', 'unassignedOrMe', 'all'], 'description': 'How to filter by responsible user when responsibleUser is not provided. \"assigned\" = only tasks assigned to others; \"unassignedOrMe\" = only unassigned tasks or tasks assigned to me; \"all\" = all tasks regardless of assignment. Default value will be `unassignedOrMe`.'}, 'limit': {'type': 'integer', 'minimum': 1, 'maximum': 50, 'default': 10, 'description': 'The maximum number of tasks to return.'}, 'cursor': {'type': 'string', 'description': 'The cursor to get the next page of tasks (cursor is obtained from the previous call to this tool, with the same parameters).'}, 'labels': {'type': 'array', 'items': {'type': 'string'}, 'description': 'The labels to filter the tasks by'}, 'labelsOperator': {'type': 'string', 'enum': ['and', 'or'], 'description': 'The operator to use when filtering by labels. This will dictate whether a task has all labels, or some of them. Default is \"or\".'}}, 'additionalProperties': False, '$schema': 'http://json-schema.org/draft-07/schema#'}\n",
            "\n",
            "5. find-tasks-by-date\n",
            "   Description: Get tasks by date range. Use startDate 'today' to get today's tasks including overdue items, or provide a specific date/date range.\n",
            "   Input Schema: {'type': 'object', 'properties': {'startDate': {'type': 'string', 'pattern': '^(\\\\d{4}-\\\\d{2}-\\\\d{2}|today)$', 'description': \"The start date to get the tasks for. Format: YYYY-MM-DD or 'today'.\"}, 'overdueOption': {'type': 'string', 'enum': ['overdue-only', 'include-overdue', 'exclude-overdue'], 'description': \"How to handle overdue tasks. 'overdue-only' to get only overdue tasks, 'include-overdue' to include overdue tasks along with tasks for the specified date(s), and 'exclude-overdue' to exclude overdue tasks. Default is 'include-overdue'.\"}, 'daysCount': {'type': 'integer', 'minimum': 1, 'maximum': 30, 'default': 1, 'description': 'The number of days to get the tasks for, starting from the start date. Default is 1 which means only tasks for the start date.'}, 'limit': {'type': 'integer', 'minimum': 1, 'maximum': 50, 'default': 10, 'description': 'The maximum number of tasks to return.'}, 'cursor': {'type': 'string', 'description': 'The cursor to get the next page of tasks (cursor is obtained from the previous call to this tool, with the same parameters).'}, 'labels': {'type': 'array', 'items': {'type': 'string'}, 'description': 'The labels to filter the tasks by'}, 'labelsOperator': {'type': 'string', 'enum': ['and', 'or'], 'description': 'The operator to use when filtering by labels. This will dictate whether a task has all labels, or some of them. Default is \"or\".'}}, 'additionalProperties': False, '$schema': 'http://json-schema.org/draft-07/schema#'}\n",
            "\n",
            "6. find-completed-tasks\n",
            "   Description: Get completed tasks.\n",
            "   Input Schema: {'type': 'object', 'properties': {'getBy': {'type': 'string', 'enum': ['completion', 'due'], 'default': 'completion', 'description': 'The method to use to get the tasks: \"completion\" to get tasks by completion date (ie, when the task was actually completed), \"due\" to get tasks by due date (ie, when the task was due to be completed by).'}, 'since': {'type': 'string', 'format': 'date', 'pattern': '^\\\\d{4}-\\\\d{2}-\\\\d{2}$', 'description': 'The start date to get the tasks for. Format: YYYY-MM-DD.'}, 'until': {'type': 'string', 'format': 'date', 'pattern': '^\\\\d{4}-\\\\d{2}-\\\\d{2}$', 'description': 'The start date to get the tasks for. Format: YYYY-MM-DD.'}, 'workspaceId': {'type': 'string', 'description': 'The ID of the workspace to get the tasks for.'}, 'projectId': {'type': 'string', 'description': 'The ID of the project to get the tasks for.'}, 'sectionId': {'type': 'string', 'description': 'The ID of the section to get the tasks for.'}, 'parentId': {'type': 'string', 'description': 'The ID of the parent task to get the tasks for.'}, 'limit': {'type': 'integer', 'minimum': 1, 'maximum': 200, 'default': 50, 'description': 'The maximum number of tasks to return.'}, 'cursor': {'type': 'string', 'description': 'The cursor to get the next page of tasks (cursor is obtained from the previous call to this tool, with the same parameters).'}, 'labels': {'type': 'array', 'items': {'type': 'string'}, 'description': 'The labels to filter the tasks by'}, 'labelsOperator': {'type': 'string', 'enum': ['and', 'or'], 'description': 'The operator to use when filtering by labels. This will dictate whether a task has all labels, or some of them. Default is \"or\".'}}, 'required': ['since', 'until'], 'additionalProperties': False, '$schema': 'http://json-schema.org/draft-07/schema#'}\n",
            "\n",
            "7. add-projects\n",
            "   Description: Add one or more new projects.\n",
            "   Input Schema: {'type': 'object', 'properties': {'projects': {'type': 'array', 'items': {'type': 'object', 'properties': {'name': {'type': 'string', 'minLength': 1, 'description': 'The name of the project.'}, 'parentId': {'type': 'string', 'description': 'The ID of the parent project. If provided, creates this as a sub-project.'}, 'isFavorite': {'type': 'boolean', 'description': 'Whether the project is a favorite. Defaults to false.'}, 'viewStyle': {'type': 'string', 'enum': ['list', 'board', 'calendar'], 'description': 'The project view style. Defaults to \"list\".'}}, 'required': ['name'], 'additionalProperties': False}, 'minItems': 1, 'description': 'The array of projects to add.'}}, 'required': ['projects'], 'additionalProperties': False, '$schema': 'http://json-schema.org/draft-07/schema#'}\n",
            "\n",
            "8. update-projects\n",
            "   Description: Update multiple existing projects with new values.\n",
            "   Input Schema: {'type': 'object', 'properties': {'projects': {'type': 'array', 'items': {'type': 'object', 'properties': {'id': {'type': 'string', 'minLength': 1, 'description': 'The ID of the project to update.'}, 'name': {'type': 'string', 'minLength': 1, 'description': 'The new name of the project.'}, 'isFavorite': {'type': 'boolean', 'description': 'Whether the project is a favorite.'}, 'viewStyle': {'type': 'string', 'enum': ['list', 'board', 'calendar'], 'description': 'The project view style.'}}, 'required': ['id'], 'additionalProperties': False}, 'minItems': 1, 'description': 'The projects to update.'}}, 'required': ['projects'], 'additionalProperties': False, '$schema': 'http://json-schema.org/draft-07/schema#'}\n",
            "\n",
            "9. find-projects\n",
            "   Description: List all projects or search for projects by name. If search parameter is omitted, all projects are returned.\n",
            "   Input Schema: {'type': 'object', 'properties': {'search': {'type': 'string', 'description': 'Search for a project by name (partial and case insensitive match). If omitted, all projects are returned.'}, 'limit': {'type': 'integer', 'minimum': 1, 'maximum': 100, 'default': 50, 'description': 'The maximum number of projects to return.'}, 'cursor': {'type': 'string', 'description': 'The cursor to get the next page of projects (cursor is obtained from the previous call to this tool, with the same parameters).'}}, 'additionalProperties': False, '$schema': 'http://json-schema.org/draft-07/schema#'}\n",
            "\n",
            "10. add-sections\n",
            "   Description: Add one or more new sections to projects.\n",
            "   Input Schema: {'type': 'object', 'properties': {'sections': {'type': 'array', 'items': {'type': 'object', 'properties': {'name': {'type': 'string', 'minLength': 1, 'description': 'The name of the section.'}, 'projectId': {'type': 'string', 'minLength': 1, 'description': 'The ID of the project to add the section to.'}}, 'required': ['name', 'projectId'], 'additionalProperties': False}, 'minItems': 1, 'description': 'The array of sections to add.'}}, 'required': ['sections'], 'additionalProperties': False, '$schema': 'http://json-schema.org/draft-07/schema#'}\n",
            "\n",
            "11. update-sections\n",
            "   Description: Update multiple existing sections with new values.\n",
            "   Input Schema: {'type': 'object', 'properties': {'sections': {'type': 'array', 'items': {'type': 'object', 'properties': {'id': {'type': 'string', 'minLength': 1, 'description': 'The ID of the section to update.'}, 'name': {'type': 'string', 'minLength': 1, 'description': 'The new name of the section.'}}, 'required': ['id', 'name'], 'additionalProperties': False}, 'minItems': 1, 'description': 'The sections to update.'}}, 'required': ['sections'], 'additionalProperties': False, '$schema': 'http://json-schema.org/draft-07/schema#'}\n",
            "\n",
            "12. find-sections\n",
            "   Description: Search for sections by name or other criteria in a project.\n",
            "   Input Schema: {'type': 'object', 'properties': {'projectId': {'type': 'string', 'minLength': 1, 'description': 'The ID of the project to search sections in.'}, 'search': {'type': 'string', 'description': 'Search for a section by name (partial and case insensitive match). If omitted, all sections in the project are returned.'}}, 'required': ['projectId'], 'additionalProperties': False, '$schema': 'http://json-schema.org/draft-07/schema#'}\n",
            "\n",
            "13. add-comments\n",
            "   Description: Add multiple comments to tasks or projects. Each comment must specify either taskId or projectId.\n",
            "   Input Schema: {'type': 'object', 'properties': {'comments': {'type': 'array', 'items': {'type': 'object', 'properties': {'taskId': {'type': 'string', 'description': 'The ID of the task to comment on.'}, 'projectId': {'type': 'string', 'description': 'The ID of the project to comment on.'}, 'content': {'type': 'string', 'minLength': 1, 'description': 'The content of the comment.'}}, 'required': ['content'], 'additionalProperties': False}, 'minItems': 1, 'description': 'The array of comments to add.'}}, 'required': ['comments'], 'additionalProperties': False, '$schema': 'http://json-schema.org/draft-07/schema#'}\n",
            "\n",
            "14. find-comments\n",
            "   Description: Find comments by task, project, or get a specific comment by ID. Exactly one of taskId, projectId, or commentId must be provided.\n",
            "   Input Schema: {'type': 'object', 'properties': {'taskId': {'type': 'string', 'description': 'Find comments for a specific task.'}, 'projectId': {'type': 'string', 'description': 'Find comments for a specific project.'}, 'commentId': {'type': 'string', 'description': 'Get a specific comment by ID.'}, 'cursor': {'type': 'string', 'description': 'Pagination cursor for retrieving more results.'}, 'limit': {'type': 'integer', 'minimum': 1, 'maximum': 10, 'description': 'Maximum number of comments to return'}}, 'additionalProperties': False, '$schema': 'http://json-schema.org/draft-07/schema#'}\n",
            "\n",
            "15. update-comments\n",
            "   Description: Update multiple existing comments with new content.\n",
            "   Input Schema: {'type': 'object', 'properties': {'comments': {'type': 'array', 'items': {'type': 'object', 'properties': {'id': {'type': 'string', 'minLength': 1, 'description': 'The ID of the comment to update.'}, 'content': {'type': 'string', 'minLength': 1, 'description': 'The new content for the comment.'}}, 'required': ['id', 'content'], 'additionalProperties': False}, 'minItems': 1, 'description': 'The comments to update.'}}, 'required': ['comments'], 'additionalProperties': False, '$schema': 'http://json-schema.org/draft-07/schema#'}\n",
            "\n",
            "16. get-overview\n",
            "   Description: Get a Markdown overview. If no projectId is provided, shows all projects with hierarchy and sections (useful for navigation). If projectId is provided, shows detailed overview of that specific project including all tasks grouped by sections.\n",
            "   Input Schema: {'type': 'object', 'properties': {'projectId': {'type': 'string', 'minLength': 1, 'description': 'Optional project ID. If provided, shows detailed overview of that project. If omitted, shows overview of all projects.'}}, 'additionalProperties': False, '$schema': 'http://json-schema.org/draft-07/schema#'}\n",
            "\n",
            "17. delete-object\n",
            "   Description: Delete a project, section, task, or comment by its ID.\n",
            "   Input Schema: {'type': 'object', 'properties': {'type': {'type': 'string', 'enum': ['project', 'section', 'task', 'comment'], 'description': 'The type of entity to delete.'}, 'id': {'type': 'string', 'minLength': 1, 'description': 'The ID of the entity to delete.'}}, 'required': ['type', 'id'], 'additionalProperties': False, '$schema': 'http://json-schema.org/draft-07/schema#'}\n",
            "\n",
            "18. user-info\n",
            "   Description: Get comprehensive user information including user ID, full name, email, timezone with current local time, week start day preferences, current week dates, daily/weekly goal progress, and user plan (Free/Pro/Business).\n",
            "   Input Schema: {'type': 'object', 'properties': {}, 'additionalProperties': False, '$schema': 'http://json-schema.org/draft-07/schema#'}\n",
            "\n",
            "19. find-project-collaborators\n",
            "   Description: Search for collaborators by name or other criteria in a project.\n",
            "   Input Schema: {'type': 'object', 'properties': {'projectId': {'type': 'string', 'minLength': 1, 'description': 'The ID of the project to search for collaborators in.'}, 'searchTerm': {'type': 'string', 'description': 'Search for a collaborator by name or email (partial and case insensitive match). If omitted, all collaborators in the project are returned.'}}, 'required': ['projectId'], 'additionalProperties': False, '$schema': 'http://json-schema.org/draft-07/schema#'}\n",
            "\n",
            "20. manage-assignments\n",
            "   Description: Bulk assignment operations for multiple tasks. Supports assign, unassign, and reassign operations with atomic rollback on failures.\n",
            "   Input Schema: {'type': 'object', 'properties': {'operation': {'type': 'string', 'enum': ['assign', 'unassign', 'reassign'], 'description': 'The assignment operation to perform.'}, 'taskIds': {'type': 'array', 'items': {'type': 'string'}, 'minItems': 1, 'maxItems': 50, 'description': 'The IDs of the tasks to operate on (max 50).'}, 'responsibleUser': {'type': 'string', 'description': 'The user to assign tasks to. Can be user ID, name, or email. Required for assign and reassign operations.'}, 'fromAssigneeUser': {'type': 'string', 'description': 'For reassign operations: the current assignee to reassign from. Can be user ID, name, or email. Optional - if not provided, reassigns from any current assignee.'}, 'dryRun': {'type': 'boolean', 'default': False, 'description': 'If true, validates operations without executing them.'}}, 'required': ['operation', 'taskIds'], 'additionalProperties': False, '$schema': 'http://json-schema.org/draft-07/schema#'}\n",
            "\n"
          ]
        }
      ],
      "source": [
        "todoist_tools = await todoist_mcp_server.list_tools()\n",
        "\n",
        "if todoist_tools:\n",
        "    print(f\"Found {len(todoist_tools)} tools from Todoist:\")\n",
        "    print(\"=\" * 50)\n",
        "    \n",
        "    for i, tool in enumerate(todoist_tools, 1):\n",
        "        print(f\"{i}. {tool.name}\")\n",
        "        if hasattr(tool, 'description') and tool.description:\n",
        "            print(f\"   Description: {tool.description}\")\n",
        "        if hasattr(tool, 'inputSchema') and tool.inputSchema:\n",
        "            print(f\"   Input Schema: {tool.inputSchema}\")\n",
        "        print()\n",
        "else:\n",
        "    print(\"No tools found or connection failed\")\n",
        "\n"
      ]
    },
    {
      "cell_type": "code",
      "execution_count": null,
      "metadata": {},
      "outputs": [],
      "source": []
    }
  ],
  "metadata": {
    "kernelspec": {
      "display_name": ".venv",
      "language": "python",
      "name": "python3"
    },
    "language_info": {
      "codemirror_mode": {
        "name": "ipython",
        "version": 3
      },
      "file_extension": ".py",
      "mimetype": "text/x-python",
      "name": "python",
      "nbconvert_exporter": "python",
      "pygments_lexer": "ipython3",
      "version": "3.12.2"
    }
  },
  "nbformat": 4,
  "nbformat_minor": 2
}
